{
 "cells": [
  {
   "cell_type": "code",
   "execution_count": 9,
   "metadata": {},
   "outputs": [],
   "source": [
    "import pandas as pd\n",
    "import matplotlib.pyplot as plt\n",
    "import yfinance as yf"
   ]
  },
  {
   "cell_type": "code",
   "execution_count": 7,
   "metadata": {},
   "outputs": [],
   "source": [
    "#create dataframe:\n",
    "start_date = '2020-01-01'\n",
    "end_date = '2021-03-01'\n",
    "dates = pd.date_range(start_date, end_date)\n",
    "df1 = pd.DataFrame(index=dates)"
   ]
  },
  {
   "cell_type": "code",
   "execution_count": 19,
   "metadata": {},
   "outputs": [
    {
     "data": {
      "text/plain": [
       "MultiIndex([('Adj Close', 'AAPL'),\n",
       "            ('Adj Close', 'MSFT'),\n",
       "            ('Adj Close',  'SPY'),\n",
       "            (    'Close', 'AAPL'),\n",
       "            (    'Close', 'MSFT'),\n",
       "            (    'Close',  'SPY'),\n",
       "            (     'High', 'AAPL'),\n",
       "            (     'High', 'MSFT'),\n",
       "            (     'High',  'SPY'),\n",
       "            (      'Low', 'AAPL'),\n",
       "            (      'Low', 'MSFT'),\n",
       "            (      'Low',  'SPY'),\n",
       "            (     'Open', 'AAPL'),\n",
       "            (     'Open', 'MSFT'),\n",
       "            (     'Open',  'SPY'),\n",
       "            (   'Volume', 'AAPL'),\n",
       "            (   'Volume', 'MSFT'),\n",
       "            (   'Volume',  'SPY')],\n",
       "           )"
      ]
     },
     "execution_count": 19,
     "metadata": {},
     "output_type": "execute_result"
    }
   ],
   "source": [
    "stocks = ['AAPL','MSFT','SPY']\n",
    "df = yf.download(stocks, \n",
    "                      start='2019-01-01', # YOU CAN CHANGE THIS\n",
    "                      end='2022-03-12', # DO NOT CHANGE THIS\n",
    "                      progress=False)\n",
    "df.columns"
   ]
  },
  {
   "cell_type": "code",
   "execution_count": null,
   "metadata": {},
   "outputs": [],
   "source": []
  }
 ],
 "metadata": {
  "interpreter": {
   "hash": "cdb82afe063586910a5ab3360053f9bfd9b0a85672fd0d89ba92d3513d13d9e0"
  },
  "kernelspec": {
   "display_name": "Python 3",
   "language": "python",
   "name": "python3"
  },
  "language_info": {
   "codemirror_mode": {
    "name": "ipython",
    "version": 3
   },
   "file_extension": ".py",
   "mimetype": "text/x-python",
   "name": "python",
   "nbconvert_exporter": "python",
   "pygments_lexer": "ipython3",
   "version": "3.9.5"
  }
 },
 "nbformat": 4,
 "nbformat_minor": 4
}
